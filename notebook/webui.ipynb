{
 "cells": [
  {
   "cell_type": "markdown",
   "metadata": {
    "id": "view-in-github"
   },
   "source": [
    "[![Open in SageMaker Studio Lab](https://studiolab.sagemaker.aws/studiolab.svg)](https://studiolab.sagemaker.aws/import/github/ninjaneural/sagemaker/blob/main/notebook/webui.ipynb)"
   ]
  },
  {
   "cell_type": "code",
   "execution_count": null,
   "metadata": {
    "tags": []
   },
   "outputs": [],
   "source": [
    "# 실행변수\n",
    "HomePath = '/home/studio-lab-user'\n",
    "Workspace = 'ui'\n"
   ]
  },
  {
   "cell_type": "code",
   "execution_count": null,
   "metadata": {
    "id": "SaAJk33ppFw1",
    "scrolled": true,
    "tags": []
   },
   "outputs": [],
   "source": [
    "# 설치\n",
    "HomePath = '/home/studio-lab-user'\n",
    "\n",
    "#**초기모델(checkpoint) URL**\n",
    "Checkpoint_Url = 'https://civitai.com/api/download/models/94640?type=Model&format=SafeTensor&size=pruned&fp=fp16'\n",
    "#**초기모델 파일명**\n",
    "Checkpoint_Filename = 'majicMIX_realistic_v6.safetensors'\n",
    "\n",
    "#**ControlNet을 사용하지 않으면 체크를 해제해주세요**\n",
    "ControlNet = False\n",
    "\n",
    "#**After Detailer(adetailer)를 사용하지 않으면 체크를 해제해주세요**\n",
    "ADetailer = False\n",
    "\n",
    "#**Dectect Detailer(ddetailer)를 사용하지 않으면 체크를 해제해주세요**\n",
    "DDetailer = False\n",
    "\n",
    "#**Segment Anything을 사용하지 않으면 체크를 해제해주세요**\n",
    "SegmentAnything = False\n",
    "\n",
    "Workspace = 'ui'\n",
    "TagVersion = 'v1.6.0'\n",
    "\n",
    "!pip install torch==2.0.1+cu118 torchvision==0.15.2+cu118 -f https://download.pytorch.org/whl/torch_stable.html\n",
    "!pip install -q xformers==0.0.20 triton==2.0.0 -U\n",
    "!pip install httpx==0.24.1\n",
    "\n",
    "# install util\n",
    "!conda install -q -y aria2\n",
    "!conda install glib=2.51.0 -y\n",
    "\n",
    "%cd {HomePath}\n",
    "!wget https://raw.githubusercontent.com/ninjaneural/webui/master/misc/install_sagemaker.sh -O ./install.sh\n",
    "!bash install.sh {Workspace} {TagVersion} {ControlNet} {DDetailer} {ADetailer} {SegmentAnything}\n",
    "\n",
    "%cd {HomePath}/{Workspace}\n",
    "!wget https://raw.githubusercontent.com/ninjaneural/webui/master/misc/config_api.json -O ./config.json\n",
    "\n",
    "# checkpoint select\n",
    "!sed -i -e 's/\"sd_model_checkpoint\": \"\",/\"sd_model_checkpoint\": \"{Checkpoint_Filename}\",/g' ./config.json\n",
    "\n",
    "# 추가 익스텐션\n",
    "# git clone https://github.com/KohakuBlueleaf/a1111-sd-webui-haku-img ./extensions/a1111-sd-webui-haku-img\n",
    "\n",
    "# checkpoint \n",
    "!aria2c --console-log-level=error -c -x 16 -s 16 -k 1M \"{Checkpoint_Url}\" -d ./models/Stable-diffusion -o {Checkpoint_Filename}\n",
    "\n",
    "# upscaler\n",
    "!aria2c --console-log-level=error -c -x 16 -s 16 -k 1M https://huggingface.co/embed/upscale/resolve/main/4x-UltraSharp.pth -d ./models/ESRGAN -o 4x-UltraSharp.pth\n",
    "\n",
    "# vae\n",
    "!aria2c --console-log-level=error -c -x 16 -s 16 -k 1M https://huggingface.co/ckpt/sd-vae-ft-mse-original/resolve/main/vae-ft-mse-840000-ema-pruned.ckpt -d ./models/Stable-diffusion -o vae-ft-mse-840000-ema-pruned.vae.pt\n",
    "\n",
    "# lora\n",
    "!aria2c --console-log-level=error -c -x 16 -s 16 -k 1M \"https://civitai.com/api/download/models/87153?type=Model&format=SafeTensor\" -d ./models/Lora -o more_details.safetensors\n",
    "\n",
    "# embeddings\n",
    "!aria2c --console-log-level=error -c -x 16 -s 16 -k 1M https://huggingface.co/datasets/gsdf/EasyNegative/resolve/main/EasyNegative.pt -d ./embeddings -o EasyNegative.pt\n",
    "!aria2c --console-log-level=error -c -x 16 -s 16 -k 1M https://huggingface.co/AsciiP/badhandv4/resolve/main/badhandv4.pt -d ./embeddings -o badhandv4.pt\n",
    "\n",
    "!conda clean --all -y\n",
    "!rm -rf {HomePath}/.cache\n",
    "\n",
    "print(\"설치 완료! 시작을 실행해주세요\")\n"
   ]
  },
  {
   "cell_type": "code",
   "execution_count": null,
   "metadata": {},
   "outputs": [],
   "source": [
    "# controlnet model 다운로드\n",
    "if 'HomePath' in locals():\n",
    "\n",
    "    %cd {HomePath}/{Workspace}\n",
    "\n",
    "    # 모델삭제\n",
    "    !rm -r ./extensions/controlnet/models/*\n",
    "\n",
    "    # basic\n",
    "    !aria2c --console-log-level=error -c -x 16 -s 16 -k 1M https://huggingface.co/comfyanonymous/ControlNet-v1-1_fp16_safetensors/resolve/main/control_v11p_sd15_openpose_fp16.safetensors -d ./extensions/controlnet/models -o control_v11p_sd15_openpose_fp16.safetensors\n",
    "    !aria2c --console-log-level=error -c -x 16 -s 16 -k 1M https://huggingface.co/comfyanonymous/ControlNet-v1-1_fp16_safetensors/resolve/main/control_v11p_sd15_lineart_fp16.safetensors -d ./extensions/controlnet/models -o control_v11p_sd15_lineart_fp16.safetensors\n",
    "    !aria2c --console-log-level=error -c -x 16 -s 16 -k 1M https://huggingface.co/comfyanonymous/ControlNet-v1-1_fp16_safetensors/resolve/main/control_v11p_sd15_softedge_fp16.safetensors -d ./extensions/controlnet/models -o control_v11p_sd15_softedge_fp16.safetensors\n",
    "    !aria2c --console-log-level=error -c -x 16 -s 16 -k 1M https://huggingface.co/comfyanonymous/ControlNet-v1-1_fp16_safetensors/resolve/main/control_v11f1p_sd15_depth_fp16.safetensors -d ./extensions/controlnet/models -o control_v11f1p_sd15_depth_fp16.safetensors\n",
    "    !aria2c --console-log-level=error -c -x 16 -s 16 -k 1M https://huggingface.co/comfyanonymous/ControlNet-v1-1_fp16_safetensors/resolve/main/control_v11p_sd15_canny_fp16.safetensors -d ./extensions/controlnet/models -o control_v11p_sd15_canny_fp16.safetensors\n",
    "    !aria2c --console-log-level=error -c -x 16 -s 16 -k 1M https://huggingface.co/comfyanonymous/ControlNet-v1-1_fp16_safetensors/resolve/main/control_v11e_sd15_ip2p_fp16.safetensors -d ./extensions/controlnet/models -o control_v11e_sd15_ip2p_fp16.safetensors\n",
    "    !aria2c --console-log-level=error -c -x 16 -s 16 -k 1M https://huggingface.co/comfyanonymous/ControlNet-v1-1_fp16_safetensors/resolve/main/control_v11f1e_sd15_tile_fp16.safetensors -d ./extensions/controlnet/models -o control_v11f1e_sd15_tile_fp16.safetensors\n",
    "\n",
    "    # !aria2c --console-log-level=error -c -x 16 -s 16 -k 1M https://huggingface.co/comfyanonymous/ControlNet-v1-1_fp16_safetensors/resolve/main/control_v11p_sd15_scribble_fp16.safetensors -d ./extensions/controlnet/models -o control_v11p_sd15_scribble_fp16.safetensors\n",
    "    # !aria2c --console-log-level=error -c -x 16 -s 16 -k 1M https://huggingface.co/comfyanonymous/ControlNet-v1-1_fp16_safetensors/resolve/main/control_v11p_sd15_seg_fp16.safetensors -d ./extensions/controlnet/models -o control_v11p_sd15_seg_fp16.safetensors\n",
    "    # !aria2c --console-log-level=error -c -x 16 -s 16 -k 1M https://huggingface.co/comfyanonymous/ControlNet-v1-1_fp16_safetensors/resolve/main/control_v11p_sd15_inpaint_fp16.safetensors -d ./extensions/controlnet/models -o control_v11p_sd15_inpaint_fp16.safetensors\n",
    "    # !aria2c --console-log-level=error -c -x 16 -s 16 -k 1M https://huggingface.co/comfyanonymous/ControlNet-v1-1_fp16_safetensors/resolve/main/control_v11p_sd15s2_lineart_anime_fp16.safetensors -d ./extensions/controlnet/models -o control_v11p_sd15s2_lineart_anime_fp16.safetensors\n",
    "\n",
    "    # #temporalnet\n",
    "    # !aria2c --console-log-level=error -c -x 16 -s 16 -k 1M https://huggingface.co/CiaraRowles/TemporalNet/resolve/main/diff_control_sd15_temporalnet_fp16.safetensors -d ./extensions/controlnet/models -o diff_control_sd15_temporalnet_fp16.safetensors\n",
    "\n",
    "    # #ip-adapter\n",
    "    # !aria2c --console-log-level=error -c -x 16 -s 16 -k 1M https://huggingface.co/h94/IP-Adapter/resolve/main/models/ip-adapter_sd15.bin -d ./extensions/controlnet/models -o ip-adapter_sd15.pth\n",
    "    # !aria2c --console-log-level=error -c -x 16 -s 16 -k 1M https://huggingface.co/h94/IP-Adapter/resolve/main/models/ip-adapter-plus_sd15.bin -d ./extensions/controlnet/models -o ip-adapter-plus_sd15.pth\n",
    "    # !aria2c --console-log-level=error -c -x 16 -s 16 -k 1M https://huggingface.co/h94/IP-Adapter/resolve/main/models/ip-adapter-plus-face_sd15.bin -d ./extensions/controlnet/models -o ip-adapter-plus-face_sd15.pth\n",
    "\n",
    "    # #extra\n",
    "    # !aria2c --console-log-level=error -c -x 16 -s 16 -k 1M https://huggingface.co/comfyanonymous/ControlNet-v1-1_fp16_safetensors/resolve/main/control_v11p_sd15_mlsd_fp16.safetensors -d ./extensions/controlnet/models -o control_v11p_sd15_mlsd_fp16.safetensors\n",
    "    # !aria2c --console-log-level=error -c -x 16 -s 16 -k 1M https://huggingface.co/comfyanonymous/ControlNet-v1-1_fp16_safetensors/resolve/main/control_v11p_sd15_normalbae_fp16.safetensors -d ./extensions/controlnet/models -o control_v11p_sd15_normalbae_fp16.safetensors\n",
    "    # !aria2c --console-log-level=error -c -x 16 -s 16 -k 1M https://huggingface.co/comfyanonymous/ControlNet-v1-1_fp16_safetensors/resolve/main/control_v11e_sd15_shuffle_fp16.safetensors -d ./extensions/controlnet/models -o control_v11e_sd15_shuffle_fp16.safetensors\n",
    "\n",
    "    # #t2iadapter\n",
    "    # !aria2c --console-log-level=error -c -x 16 -s 16 -k 1M https://huggingface.co/TencentARC/T2I-Adapter/resolve/main/models/t2iadapter_style_sd14v1.pth -d ./extensions/controlnet/models -o t2iadapter_style_sd14v1.pth\n",
    "    # !aria2c --console-log-level=error -c -x 16 -s 16 -k 1M https://huggingface.co/TencentARC/T2I-Adapter/resolve/main/models/t2iadapter_color_sd14v1.pth -d ./extensions/controlnet/models -o t2iadapter_color_sd14v1.pth\n",
    "    # !aria2c --console-log-level=error -c -x 16 -s 16 -k 1M https://huggingface.co/TencentARC/T2I-Adapter/resolve/main/models/t2iadapter_sketch_sd15v2.pth -d ./extensions/controlnet/models -o t2iadapter_sketch_sd15v2.pth\n",
    "    # !aria2c --console-log-level=error -c -x 16 -s 16 -k 1M https://huggingface.co/TencentARC/T2I-Adapter/resolve/main/models/t2iadapter_zoedepth_sd15v1.pth -d ./extensions/controlnet/models -o t2iadapter_zoedepth_sd15v1.pth\n",
    "    \n",
    "    # #etc\n",
    "    # !aria2c --console-log-level=error -c -x 16 -s 16 -k 1M https://huggingface.co/lllyasviel/sd_control_collection/resolve/main/ioclab_sd15_recolor.safetensors -d ./extensions/controlnet/models -o ioclab_sd15_recolor.safetensors  \n"
   ]
  },
  {
   "cell_type": "code",
   "execution_count": null,
   "metadata": {
    "tags": []
   },
   "outputs": [],
   "source": [
    "# 다른 모델(checkpoint) 다운로드\n",
    "Checkpoint_Url = 'https://civitai.com/api/download/models/94640?type=Model&format=SafeTensor&size=pruned&fp=fp16'\n",
    "Checkpoint_Filename = 'majicMIX_realistic_v6.safetensors'\n",
    "\n",
    "if 'HomePath' in locals():\n",
    "    %cd {HomePath}/{Workspace}\n",
    "\n",
    "    # 모델삭제\n",
    "    !rm ./models/Stable-diffusion/*\n",
    "\n",
    "    !aria2c --console-log-level=error -c -x 16 -s 16 -k 1M \"{Checkpoint_Url}\" -d ./models/Stable-diffusion -o {Checkpoint_Filename}\n"
   ]
  },
  {
   "cell_type": "code",
   "execution_count": null,
   "metadata": {
    "scrolled": true,
    "tags": []
   },
   "outputs": [],
   "source": [
    "# 시작 (localtunnel 터널링)\n",
    "\n",
    "%cd {HomePath}/{Workspace}\n",
    "!python launch.py --xformers --no-half-vae --enable-insecure-extension-access --theme dark --ngrok [ngrok키]"
   ]
  },
  {
   "cell_type": "code",
   "execution_count": null,
   "metadata": {
    "tags": []
   },
   "outputs": [],
   "source": [
    "# 저장\n",
    "\n",
    "!tar czvf {HomePath}/output.tar.gz {HomePath}/{Workspace}/outputs\n",
    "!rm -r {HomePath}/{Workspace}/outputs\n"
   ]
  },
  {
   "cell_type": "code",
   "execution_count": null,
   "metadata": {
    "tags": []
   },
   "outputs": [],
   "source": [
    "# 삭제\n",
    "\n",
    "!rm {HomePath}/output.tar.gz"
   ]
  },
  {
   "cell_type": "code",
   "execution_count": null,
   "metadata": {
    "tags": []
   },
   "outputs": [],
   "source": [
    "# 용량 확인\n",
    "\n",
    "!df -h {HomePath}\n",
    "\n",
    "!du -sh {HomePath}/.[^.]*\n",
    "!du -sh {HomePath}/*\n"
   ]
  },
  {
   "cell_type": "code",
   "execution_count": null,
   "metadata": {},
   "outputs": [],
   "source": []
  }
 ],
 "metadata": {
  "accelerator": "GPU",
  "colab": {
   "collapsed_sections": [],
   "private_outputs": true,
   "provenance": []
  },
  "gpuClass": "standard",
  "kernelspec": {
   "display_name": "default:Python",
   "language": "python",
   "name": "conda-env-default-py"
  },
  "language_info": {
   "codemirror_mode": {
    "name": "ipython",
    "version": 3
   },
   "file_extension": ".py",
   "mimetype": "text/x-python",
   "name": "python",
   "nbconvert_exporter": "python",
   "pygments_lexer": "ipython3",
   "version": "3.9.18"
  }
 },
 "nbformat": 4,
 "nbformat_minor": 4
}
