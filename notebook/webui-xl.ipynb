{
 "cells": [
  {
   "cell_type": "markdown",
   "metadata": {
    "id": "view-in-github"
   },
   "source": [
    "[![Open in SageMaker Studio Lab](https://studiolab.sagemaker.aws/studiolab.svg)](https://studiolab.sagemaker.aws/import/github/ninjaneural/sagemaker/blob/main/notebook/webui_xl.ipynb)"
   ]
  },
  {
   "cell_type": "code",
   "execution_count": 3,
   "metadata": {
    "tags": []
   },
   "outputs": [],
   "source": [
    "# 실행변수\n",
    "HomePath = '/home/studio-lab-user'\n",
    "Workspace = 'ui'\n"
   ]
  },
  {
   "cell_type": "code",
   "execution_count": null,
   "metadata": {
    "id": "SaAJk33ppFw1",
    "scrolled": true,
    "tags": []
   },
   "outputs": [],
   "source": [
    "# 설치\n",
    "HomePath = '/home/studio-lab-user'\n",
    "\n",
    "#@markdown **초기모델(checkpoint) URL**\n",
    "Checkpoint_Url = 'https://civitai.com/api/download/models/121931?type=Model&format=SafeTensor&size=full&fp=fp16' #@param {type:\"string\"}\n",
    "#@markdown **초기모델 파일명**\n",
    "Checkpoint_Filename = 'DreamShaper_XL_09Alpha.safetensors' #@param {type:\"string\"}\n",
    "\n",
    "#**ControlNet을 사용하지 않으면 체크를 해제해주세요**\n",
    "ControlNet = False\n",
    "\n",
    "#**After Detailer(adetailer)를 사용하지 않으면 체크를 해제해주세요**\n",
    "ADetailer = False\n",
    "\n",
    "#**Dectect Detailer(ddetailer)를 사용하지 않으면 체크를 해제해주세요**\n",
    "DDetailer = False\n",
    "\n",
    "#**Segment Anything을 사용하지 않으면 체크를 해제해주세요**\n",
    "SegmentAnything = False\n",
    "\n",
    "Workspace = 'ui'\n",
    "TagVersion = 'v1.6.0'\n",
    "\n",
    "!pip install torch==2.0.1+cu118 torchvision==0.15.2+cu118 -f https://download.pytorch.org/whl/torch_stable.html\n",
    "!pip install -q xformers==0.0.20 triton==2.0.0 -U\n",
    "\n",
    "# install util\n",
    "!conda install -q -y aria2\n",
    "!conda install glib=2.51.0 -y\n",
    "\n",
    "%cd {HomePath}\n",
    "!wget https://raw.githubusercontent.com/ninjaneural/webui/master/misc/install_sagemaker.sh -O ./install.sh\n",
    "!bash install.sh {Workspace} {TagVersion} {ControlNet} {DDetailer} {ADetailer} {SegmentAnything}\n",
    "\n",
    "%cd {HomePath}/{Workspace}\n",
    "!wget https://raw.githubusercontent.com/ninjaneural/webui/master/misc/config_api.json -O ./config.json\n",
    "\n",
    "# checkpoint select\n",
    "!sed -i -e 's/\"sd_model_checkpoint\": \"\",/\"sd_model_checkpoint\": \"{Checkpoint_Filename}\",/g' ./config.json\n",
    "\n",
    "# 추가 익스텐션\n",
    "# git clone https://github.com/KohakuBlueleaf/a1111-sd-webui-haku-img ./extensions/a1111-sd-webui-haku-img\n",
    "\n",
    "# checkpoint \n",
    "!aria2c --console-log-level=error -c -x 16 -s 16 -k 1M \"{Checkpoint_Url}\" -d ./models/Stable-diffusion -o {Checkpoint_Filename}\n",
    "\n",
    "# upscaler\n",
    "!aria2c --console-log-level=error -c -x 16 -s 16 -k 1M https://huggingface.co/embed/upscale/resolve/main/4x-UltraSharp.pth -d ./models/ESRGAN -o 4x-UltraSharp.pth\n",
    "\n",
    "# vae\n",
    "!aria2c --console-log-level=error -c -x 16 -s 16 -k 1M https://huggingface.co/ckpt/sd-vae-ft-mse-original/resolve/main/vae-ft-mse-840000-ema-pruned.ckpt -d ./models/Stable-diffusion -o vae-ft-mse-840000-ema-pruned.vae.pt\n",
    "\n",
    "# lora\n",
    "!aria2c --console-log-level=error -c -x 16 -s 16 -k 1M \"https://civitai.com/api/download/models/87153?type=Model&format=SafeTensor\" -d ./models/Lora -o more_details.safetensors\n",
    "\n",
    "# embeddings\n",
    "!aria2c --console-log-level=error -c -x 16 -s 16 -k 1M https://huggingface.co/datasets/gsdf/EasyNegative/resolve/main/EasyNegative.pt -d ./embeddings -o EasyNegative.pt\n",
    "!aria2c --console-log-level=error -c -x 16 -s 16 -k 1M https://huggingface.co/AsciiP/badhandv4/resolve/main/badhandv4.pt -d ./embeddings -o badhandv4.pt\n",
    "\n",
    "!conda clean --all -y\n",
    "!rm -rf {HomePath}/.cache\n",
    "\n",
    "print(\"설치 완료! 시작을 실행해주세요\")\n"
   ]
  },
  {
   "cell_type": "code",
   "execution_count": null,
   "metadata": {},
   "outputs": [],
   "source": [
    "# controlnet model 다운로드\n",
    "if 'HomePath' in locals():\n",
    "    %cd {HomePath}/{Workspace}\n",
    "\n",
    "    # 모델삭제\n",
    "    !rm ./extensions/controlnet/models/*\n",
    "\n",
    "    # # controlnet model\n",
    "    # !aria2c --console-log-level=error -c -x 16 -s 16 -k 1M https://huggingface.co/lllyasviel/sd_control_collection/resolve/main/diffusers_xl_canny_mid.safetensors -d ./extensions/controlnet/models -o diffusers_xl_canny_mid.safetensors\n",
    "    # !aria2c --console-log-level=error -c -x 16 -s 16 -k 1M https://huggingface.co/lllyasviel/sd_control_collection/resolve/main/diffusers_xl_depth_mid.safetensors -d ./extensions/controlnet/models -o diffusers_xl_depth_mid.safetensors\n",
    "    # !aria2c --console-log-level=error -c -x 16 -s 16 -k 1M https://huggingface.co/lllyasviel/sd_control_collection/resolve/main/sargezt_xl_softedge.safetensors -d ./extensions/controlnet/models -o sargezt_xl_softedge.safetensors\n",
    "    # !aria2c --console-log-level=error -c -x 16 -s 16 -k 1M https://huggingface.co/lllyasviel/sd_control_collection/resolve/main/thibaud_xl_openpose.safetensors -d ./extensions/controlnet/models -o thibaud_xl_openpose.safetensors\n",
    "\n",
    "#     # anime (kohya)\n",
    "#     !aria2c --console-log-level=error -c -x 16 -s 16 -k 1M https://huggingface.co/lllyasviel/sd_control_collection/resolve/main/kohya_controllllite_xl_canny_anime.safetensors -d ./extensions/controlnet/models -o kohya_controllllite_xl_canny_anime.safetensors\n",
    "#     !aria2c --console-log-level=error -c -x 16 -s 16 -k 1M https://huggingface.co/lllyasviel/sd_control_collection/resolve/main/kohya_controllllite_xl_depth_anime.safetensors -d ./extensions/controlnet/models -o kohya_controllllite_xl_depth_anime.safetensors\n",
    "#     !aria2c --console-log-level=error -c -x 16 -s 16 -k 1M https://huggingface.co/lllyasviel/sd_control_collection/resolve/main/kohya_controllllite_xl_openpose_anime_v2.safetensors -d ./extensions/controlnet/models -o kohya_controllllite_xl_openpose_anime_v2.safetensors\n",
    "#     !aria2c --console-log-level=error -c -x 16 -s 16 -k 1M https://huggingface.co/lllyasviel/sd_control_collection/resolve/main/kohya_controllllite_xl_scribble_anime.safetensors -d ./extensions/controlnet/models -o kohya_controllllite_xl_scribble_anime.safetensors\n",
    "\n",
    "#     # sai\n",
    "#     !aria2c --console-log-level=error -c -x 16 -s 16 -k 1M https://huggingface.co/lllyasviel/sd_control_collection/resolve/main/sai_xl_canny_256lora.safetensors -d ./extensions/controlnet/models -o sai_xl_canny_256lora.safetensors\n",
    "#     !aria2c --console-log-level=error -c -x 16 -s 16 -k 1M https://huggingface.co/lllyasviel/sd_control_collection/resolve/main/sai_xl_depth_256lora.safetensors -d ./extensions/controlnet/models -o sai_xl_depth_256lora.safetensors\n",
    "#     !aria2c --console-log-level=error -c -x 16 -s 16 -k 1M https://huggingface.co/lllyasviel/sd_control_collection/resolve/main/sai_xl_recolor_256lora.safetensors -d ./extensions/controlnet/models -o sai_xl_recolor_256lora.safetensors\n",
    "#     !aria2c --console-log-level=error -c -x 16 -s 16 -k 1M https://huggingface.co/lllyasviel/sd_control_collection/resolve/main/sai_xl_sketch_256lora.safetensors -d ./extensions/controlnet/models -o sai_xl_sketch_256lora.safetensors\n",
    "\n",
    "#     # t2i adapter\n",
    "#     !aria2c --console-log-level=error -c -x 16 -s 16 -k 1M https://huggingface.co/lllyasviel/sd_control_collection/resolve/main/t2i-adapter_xl_canny.safetensors -d ./extensions/controlnet/models -o t2i-adapter_xl_canny.safetensors\n",
    "#     !aria2c --console-log-level=error -c -x 16 -s 16 -k 1M https://huggingface.co/lllyasviel/sd_control_collection/resolve/main/t2i-adapter_xl_openpose.safetensors -d ./extensions/controlnet/models -o t2i-adapter_xl_openpose.safetensors\n",
    "#     !aria2c --console-log-level=error -c -x 16 -s 16 -k 1M https://huggingface.co/lllyasviel/sd_control_collection/resolve/main/t2i-adapter_xl_sketch.safetensors -d ./extensions/controlnet/models -o t2i-adapter_xl_sketch.safetensors\n",
    "\n",
    "#     #etc\n",
    "#     !aria2c --console-log-level=error -c -x 16 -s 16 -k 1M https://huggingface.co/lllyasviel/sd_control_collection/resolve/main/ip-adapter_xl.pth -d ./extensions/controlnet/models -o ip-adapter_xl.pth\n",
    "\n",
    "#     # temporalnet\n",
    "#     !aria2c --console-log-level=error -c -x 16 -s 16 -k 1M https://huggingface.co/CiaraRowles/controlnet-temporalnet-sdxl-1.0/resolve/main/diffusion_pytorch_model.safetensors -d /content/$1/extensions/controlnet/models -o diffusion_pytorch_model.safetensors\n"
   ]
  },
  {
   "cell_type": "code",
   "execution_count": 4,
   "metadata": {
    "tags": []
   },
   "outputs": [
    {
     "name": "stdout",
     "output_type": "stream",
     "text": [
      "/home/studio-lab-user/ui\n",
      "\u001b[35m[\u001b[0m#04278e 6.4GiB/6.4GiB\u001b[36m(99%)\u001b[0m CN:11 DL:\u001b[32m92MiB\u001b[0m\u001b[35m]\u001b[0m\u001b[0m0m\u001b[35m]\u001b[0m\u001b[0mmm\n",
      "Download Results:\n",
      "gid   |stat|avg speed  |path/URI\n",
      "======+====+===========+=======================================================\n",
      "04278e|\u001b[1;32mOK\u001b[0m  |   122MiB/s|./models/Stable-diffusion/DreamShaper_XL_09Alpha.safetensors\n",
      "\n",
      "Status Legend:\n",
      "(OK):download completed.\n"
     ]
    }
   ],
   "source": [
    "# 다른 모델(checkpoint) 다운로드\n",
    "Checkpoint_Url = 'https://civitai.com/api/download/models/121931?type=Model&format=SafeTensor&size=full&fp=fp16' #@param {type:\"string\"}\n",
    "Checkpoint_Filename = 'DreamShaper_XL_09Alpha.safetensors' #@param {type:\"string\"}\n",
    "\n",
    "if 'HomePath' in locals():\n",
    "    %cd {HomePath}/{Workspace}\n",
    "\n",
    "    # 모델삭제\n",
    "    !rm ./models/Stable-diffusion/*\n",
    "\n",
    "    !aria2c --console-log-level=error -c -x 16 -s 16 -k 1M \"{Checkpoint_Url}\" -d ./models/Stable-diffusion -o {Checkpoint_Filename}\n"
   ]
  },
  {
   "cell_type": "code",
   "execution_count": null,
   "metadata": {
    "scrolled": true,
    "tags": []
   },
   "outputs": [],
   "source": [
    "# 시작 (localtunnel 터널링)\n",
    "\n",
    "%cd {HomePath}/{Workspace}\n",
    "!python launch.py --xformers --no-half-vae --enable-insecure-extension-access --theme dark --ngrok 2O12b7KodfUC93I9kGlOxkbyU1i_4m4dWcVktVGBfBDZAFnqC"
   ]
  },
  {
   "cell_type": "code",
   "execution_count": null,
   "metadata": {
    "tags": []
   },
   "outputs": [],
   "source": [
    "# 저장\n",
    "\n",
    "!tar czvf {HomePath}/output.tar.gz {HomePath}/{Workspace}/outputs\n",
    "!rm -r {HomePath}/{Workspace}/outputs\n"
   ]
  },
  {
   "cell_type": "code",
   "execution_count": null,
   "metadata": {
    "tags": []
   },
   "outputs": [],
   "source": [
    "# 삭제\n",
    "\n",
    "!rm {HomePath}/output.tar.gz"
   ]
  },
  {
   "cell_type": "code",
   "execution_count": 6,
   "metadata": {
    "tags": []
   },
   "outputs": [
    {
     "name": "stdout",
     "output_type": "stream",
     "text": [
      "Cache location: \n",
      "There are no tarballs to remove\n",
      "WARNING: /opt/conda/pkgs does not exist\n",
      "Cache location: \n",
      "There are no unused packages to remove\n",
      "Filesystem      Size  Used Avail Use% Mounted on\n",
      "/dev/nvme1n1     25G   24G  1.8G  94% /home/studio-lab-user\n",
      "4.0K\t/home/studio-lab-user/.bashrc\n",
      "12G\t/home/studio-lab-user/.conda\n",
      "0\t/home/studio-lab-user/.config\n",
      "36K\t/home/studio-lab-user/.ipynb_checkpoints\n",
      "584K\t/home/studio-lab-user/.ipython\n",
      "24K\t/home/studio-lab-user/.jupyter\n",
      "4.0K\t/home/studio-lab-user/.keras\n",
      "124K\t/home/studio-lab-user/.local\n",
      "4.0K\t/home/studio-lab-user/.ngrok2\n",
      "3.8M\t/home/studio-lab-user/.npm\n",
      "0\t/home/studio-lab-user/.nv\n",
      "0\t/home/studio-lab-user/.sagemaker\n",
      "4.0K\t/home/studio-lab-user/.wget-hsts\n",
      "192K\t/home/studio-lab-user/sagemaker-studiolab-notebooks\n",
      "12G\t/home/studio-lab-user/ui\n",
      "20K\t/home/studio-lab-user/webui.ipynb\n",
      "16K\t/home/studio-lab-user/webui_xl.ipynb\n"
     ]
    }
   ],
   "source": [
    "# 용량 확인\n",
    "!df -h {HomePath}\n",
    "\n",
    "!du -sh {HomePath}/.[^.]*\n",
    "!du -sh {HomePath}/*"
   ]
  },
  {
   "cell_type": "code",
   "execution_count": null,
   "metadata": {},
   "outputs": [],
   "source": []
  }
 ],
 "metadata": {
  "accelerator": "GPU",
  "colab": {
   "collapsed_sections": [],
   "private_outputs": true,
   "provenance": []
  },
  "gpuClass": "standard",
  "kernelspec": {
   "display_name": "default:Python",
   "language": "python",
   "name": "conda-env-default-py"
  },
  "language_info": {
   "codemirror_mode": {
    "name": "ipython",
    "version": 3
   },
   "file_extension": ".py",
   "mimetype": "text/x-python",
   "name": "python",
   "nbconvert_exporter": "python",
   "pygments_lexer": "ipython3",
   "version": "3.9.18"
  }
 },
 "nbformat": 4,
 "nbformat_minor": 4
}
